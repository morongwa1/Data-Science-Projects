{
 "cells": [
  {
   "cell_type": "markdown",
   "metadata": {
    "id": "7EpdDShRzOkL"
   },
   "source": [
    "Exploratory data analysis (EDA) is a crucial component of data science which allows you to understand the basics of what your data looks like and what kinds of questions might be answered. For this task, we are going to clean, sanitise and explore our data. Using the movies dataset, complete the steps outlined in this notebook by writing code in the cells."
   ]
  },
  {
   "cell_type": "code",
   "execution_count": 1,
   "metadata": {
    "id": "ARURmm3ezOkQ"
   },
   "outputs": [],
   "source": [
    "# Import libraries\n",
    "\n",
    "import numpy as np\n",
    "import pandas as pd\n",
    "import seaborn as sns\n",
    "import ast, json\n",
    "import missingno\n",
    "\n",
    "import warnings\n",
    "warnings.filterwarnings(\"ignore\")\n",
    "\n",
    "from datetime import datetime\n",
    "import matplotlib.pyplot as plt\n",
    "%matplotlib inline"
   ]
  },
  {
   "cell_type": "code",
   "execution_count": 2,
   "metadata": {
    "id": "h2rUQqYrzOkT"
   },
   "outputs": [
    {
     "data": {
      "text/plain": [
       "Index(['symboling', 'normalized-losses', 'make', 'fuel-type', 'aspiration',\n",
       "       'num-of-doors', 'body-style', 'drive-wheels', 'engine-location',\n",
       "       'wheel-base', 'length', 'width', 'height', 'curb-weight', 'engine-type',\n",
       "       'num-of-cylinders', 'engine-size', 'fuel-system', 'bore', 'stroke',\n",
       "       'compression-ratio', 'horsepower', 'peak-rpm', 'city-mpg',\n",
       "       'highway-mpg', 'price'],\n",
       "      dtype='object')"
      ]
     },
     "execution_count": 2,
     "metadata": {},
     "output_type": "execute_result"
    }
   ],
   "source": [
    "#### Load the movies dataset \n",
    "automobile_df = pd.read_csv('automobile.txt')\n",
    "automobile_df.columns"
   ]
  },
  {
   "cell_type": "markdown",
   "metadata": {
    "id": "01Qo282bzOkU"
   },
   "source": [
    "### Data Cleansing\n",
    "#### Clean the data\n"
   ]
  },
  {
   "cell_type": "code",
   "execution_count": 3,
   "metadata": {},
   "outputs": [
    {
     "name": "stdout",
     "output_type": "stream",
     "text": [
      "<class 'pandas.core.frame.DataFrame'>\n",
      "RangeIndex: 205 entries, 0 to 204\n",
      "Data columns (total 26 columns):\n",
      " #   Column             Non-Null Count  Dtype  \n",
      "---  ------             --------------  -----  \n",
      " 0   symboling          205 non-null    int64  \n",
      " 1   normalized-losses  205 non-null    object \n",
      " 2   make               205 non-null    object \n",
      " 3   fuel-type          205 non-null    object \n",
      " 4   aspiration         205 non-null    object \n",
      " 5   num-of-doors       205 non-null    object \n",
      " 6   body-style         205 non-null    object \n",
      " 7   drive-wheels       205 non-null    object \n",
      " 8   engine-location    205 non-null    object \n",
      " 9   wheel-base         205 non-null    float64\n",
      " 10  length             205 non-null    float64\n",
      " 11  width              205 non-null    float64\n",
      " 12  height             205 non-null    float64\n",
      " 13  curb-weight        205 non-null    int64  \n",
      " 14  engine-type        205 non-null    object \n",
      " 15  num-of-cylinders   205 non-null    object \n",
      " 16  engine-size        205 non-null    int64  \n",
      " 17  fuel-system        205 non-null    object \n",
      " 18  bore               205 non-null    object \n",
      " 19  stroke             205 non-null    object \n",
      " 20  compression-ratio  205 non-null    float64\n",
      " 21  horsepower         205 non-null    object \n",
      " 22  peak-rpm           205 non-null    object \n",
      " 23  city-mpg           205 non-null    int64  \n",
      " 24  highway-mpg        205 non-null    int64  \n",
      " 25  price              205 non-null    object \n",
      "dtypes: float64(5), int64(5), object(16)\n",
      "memory usage: 41.8+ KB\n"
     ]
    }
   ],
   "source": [
    "# check what kind of data we have\n",
    "automobile_df.info()"
   ]
  },
  {
   "cell_type": "code",
   "execution_count": 4,
   "metadata": {
    "id": "OteozQdbzOkV"
   },
   "outputs": [],
   "source": [
    "# Code here\n",
    "# Remove all columns between column name 'status' to 'tagline'\n",
    "# automobile_df.drop(automobile_df.loc[:, 'aspiration':'drive-wheels'].columns, axis=1, inplace = True)\n",
    "# automobile_df.drop(automobile_df.loc[:, 'fuel-system':'stroke'].columns, axis=1, inplace = True)\n",
    "# automobile_df.drop(['engine-type'], axis=1, inplace = True)\n",
    "# automobile_df.drop(['engine-location'], axis=1, inplace = True)\n",
    "# automobile_df.drop(['symboling'], axis=1, inplace = True)\n",
    "# automobile_df.head()"
   ]
  },
  {
   "cell_type": "markdown",
   "metadata": {
    "id": "aLURlpwJzOkW"
   },
   "source": [
    "#### Remove any duplicate rows"
   ]
  },
  {
   "cell_type": "code",
   "execution_count": 5,
   "metadata": {
    "id": "TZGtp5YhzOkX"
   },
   "outputs": [
    {
     "name": "stdout",
     "output_type": "stream",
     "text": [
      "Empty DataFrame\n",
      "Columns: [symboling, normalized-losses, make, fuel-type, aspiration, num-of-doors, body-style, drive-wheels, engine-location, wheel-base, length, width, height, curb-weight, engine-type, num-of-cylinders, engine-size, fuel-system, bore, stroke, compression-ratio, horsepower, peak-rpm, city-mpg, highway-mpg, price]\n",
      "Index: []\n",
      "\n",
      "[0 rows x 26 columns]\n"
     ]
    }
   ],
   "source": [
    "# Code here\n",
    "# Select duplicate rows of all columns\n",
    "df_duplicates = automobile_df[automobile_df.duplicated()]\n",
    "print(df_duplicates)\n",
    "\n",
    "# remove duplicate rows based on all columns\n",
    "automobile_df.drop_duplicates(inplace=True)\n"
   ]
  },
  {
   "cell_type": "markdown",
   "metadata": {
    "id": "-FZGXFbezOkY"
   },
   "source": [
    "#### Remove rows with missing data \n",
    "\n",
    "Some movies in the database have zero budget or zero revenue which implies that their values have not been recorded or some information is missing. Discard such entries from the dataframe."
   ]
  },
  {
   "cell_type": "code",
   "execution_count": 6,
   "metadata": {
    "id": "gYkKl6FTzOkZ"
   },
   "outputs": [
    {
     "data": {
      "text/plain": [
       "symboling            0\n",
       "normalized-losses    0\n",
       "make                 0\n",
       "fuel-type            0\n",
       "aspiration           0\n",
       "num-of-doors         0\n",
       "body-style           0\n",
       "drive-wheels         0\n",
       "engine-location      0\n",
       "wheel-base           0\n",
       "length               0\n",
       "width                0\n",
       "height               0\n",
       "curb-weight          0\n",
       "engine-type          0\n",
       "num-of-cylinders     0\n",
       "engine-size          0\n",
       "fuel-system          0\n",
       "bore                 0\n",
       "stroke               0\n",
       "compression-ratio    0\n",
       "horsepower           0\n",
       "peak-rpm             0\n",
       "city-mpg             0\n",
       "highway-mpg          0\n",
       "price                0\n",
       "dtype: int64"
      ]
     },
     "execution_count": 6,
     "metadata": {},
     "output_type": "execute_result"
    }
   ],
   "source": [
    "# Code here\n",
    "# replace all the missing values with nan and then drop them\n",
    "automobile_df.replace('?', np.nan, inplace=True)\n",
    "automobile_df = automobile_df.dropna()\n",
    "# check if there are any more missing values\n",
    "automobile_df.isnull().sum()"
   ]
  },
  {
   "cell_type": "markdown",
   "metadata": {},
   "source": [
    "# Change data types\n",
    "There are columns that are objects and they must be changed to integers and float in order to be able to analyse them."
   ]
  },
  {
   "cell_type": "code",
   "execution_count": 37,
   "metadata": {},
   "outputs": [
    {
     "data": {
      "text/plain": [
       "symboling              int64\n",
       "normalized-losses      int32\n",
       "make                  object\n",
       "fuel-type             object\n",
       "aspiration            object\n",
       "num-of-doors          object\n",
       "body-style            object\n",
       "drive-wheels          object\n",
       "engine-location       object\n",
       "wheel-base           float64\n",
       "length               float64\n",
       "width                float64\n",
       "height               float64\n",
       "curb-weight            int64\n",
       "engine-type           object\n",
       "num-of-cylinders      object\n",
       "engine-size            int64\n",
       "fuel-system           object\n",
       "bore                 float64\n",
       "stroke               float64\n",
       "compression-ratio    float64\n",
       "horsepower            object\n",
       "peak-rpm             float64\n",
       "city-mpg               int64\n",
       "highway-mpg            int64\n",
       "price                float64\n",
       "dtype: object"
      ]
     },
     "execution_count": 37,
     "metadata": {},
     "output_type": "execute_result"
    }
   ],
   "source": [
    "# automobile_df['price'] = automobile_df['price'].astype('int64')\n",
    "automobile_df[[\"bore\", \"stroke\"]] = automobile_df[[\"bore\", \"stroke\"]].astype(\"float\")\n",
    "automobile_df[[\"normalized-losses\"]] = automobile_df[[\"normalized-losses\"]].astype(\"int\")\n",
    "automobile_df[[\"price\"]] = automobile_df[[\"price\"]].astype(\"float\")\n",
    "automobile_df[[\"peak-rpm\"]] = automobile_df[[\"peak-rpm\"]].astype(\"float\")\n",
    "automobile_df.dtypes"
   ]
  },
  {
   "cell_type": "markdown",
   "metadata": {},
   "source": [
    "# Data Wrangling\n"
   ]
  },
  {
   "cell_type": "code",
   "execution_count": 8,
   "metadata": {},
   "outputs": [
    {
     "name": "stdout",
     "output_type": "stream",
     "text": [
      "['audi' 'bmw' 'chevrolet' 'dodge' 'honda' 'jaguar' 'mazda' 'mercedes-benz'\n",
      " 'mitsubishi' 'nissan' 'peugot' 'plymouth' 'porsche' 'saab' 'subaru'\n",
      " 'toyota' 'volkswagen' 'volvo']\n",
      "18\n"
     ]
    }
   ],
   "source": [
    "# Make sure that the czr makes have unique names\n",
    "print(automobile_df.make.unique())\n",
    "print(automobile_df.make.nunique())"
   ]
  },
  {
   "cell_type": "markdown",
   "metadata": {
    "id": "IdqN08kXzOkd"
   },
   "source": [
    "### Now onto the exploration\n",
    "\n",
    "#### Identify relationships between variables (features)\n",
    "\n",
    "The main goal here is to identify and create relationships that can help you formulate ideas. We have defined questions to help you identify some relationships to explore."
   ]
  },
  {
   "cell_type": "markdown",
   "metadata": {},
   "source": [
    "# Statistics Summary"
   ]
  },
  {
   "cell_type": "code",
   "execution_count": 10,
   "metadata": {
    "scrolled": true
   },
   "outputs": [
    {
     "data": {
      "text/html": [
       "<div>\n",
       "<style scoped>\n",
       "    .dataframe tbody tr th:only-of-type {\n",
       "        vertical-align: middle;\n",
       "    }\n",
       "\n",
       "    .dataframe tbody tr th {\n",
       "        vertical-align: top;\n",
       "    }\n",
       "\n",
       "    .dataframe thead th {\n",
       "        text-align: right;\n",
       "    }\n",
       "</style>\n",
       "<table border=\"1\" class=\"dataframe\">\n",
       "  <thead>\n",
       "    <tr style=\"text-align: right;\">\n",
       "      <th></th>\n",
       "      <th>count</th>\n",
       "      <th>mean</th>\n",
       "      <th>std</th>\n",
       "      <th>min</th>\n",
       "      <th>25%</th>\n",
       "      <th>50%</th>\n",
       "      <th>75%</th>\n",
       "      <th>max</th>\n",
       "    </tr>\n",
       "  </thead>\n",
       "  <tbody>\n",
       "    <tr>\n",
       "      <th>symboling</th>\n",
       "      <td>159.0</td>\n",
       "      <td>0.735849</td>\n",
       "      <td>1.193086</td>\n",
       "      <td>-2.0</td>\n",
       "      <td>0.00</td>\n",
       "      <td>1.0</td>\n",
       "      <td>2.0</td>\n",
       "      <td>3.0</td>\n",
       "    </tr>\n",
       "    <tr>\n",
       "      <th>wheel-base</th>\n",
       "      <td>159.0</td>\n",
       "      <td>98.264151</td>\n",
       "      <td>5.167416</td>\n",
       "      <td>86.6</td>\n",
       "      <td>94.50</td>\n",
       "      <td>96.9</td>\n",
       "      <td>100.8</td>\n",
       "      <td>115.6</td>\n",
       "    </tr>\n",
       "    <tr>\n",
       "      <th>length</th>\n",
       "      <td>159.0</td>\n",
       "      <td>172.413836</td>\n",
       "      <td>11.523177</td>\n",
       "      <td>141.1</td>\n",
       "      <td>165.65</td>\n",
       "      <td>172.4</td>\n",
       "      <td>177.8</td>\n",
       "      <td>202.6</td>\n",
       "    </tr>\n",
       "    <tr>\n",
       "      <th>width</th>\n",
       "      <td>159.0</td>\n",
       "      <td>65.607547</td>\n",
       "      <td>1.947883</td>\n",
       "      <td>60.3</td>\n",
       "      <td>64.00</td>\n",
       "      <td>65.4</td>\n",
       "      <td>66.5</td>\n",
       "      <td>71.7</td>\n",
       "    </tr>\n",
       "    <tr>\n",
       "      <th>height</th>\n",
       "      <td>159.0</td>\n",
       "      <td>53.899371</td>\n",
       "      <td>2.268761</td>\n",
       "      <td>49.4</td>\n",
       "      <td>52.25</td>\n",
       "      <td>54.1</td>\n",
       "      <td>55.5</td>\n",
       "      <td>59.8</td>\n",
       "    </tr>\n",
       "    <tr>\n",
       "      <th>curb-weight</th>\n",
       "      <td>159.0</td>\n",
       "      <td>2461.138365</td>\n",
       "      <td>481.941321</td>\n",
       "      <td>1488.0</td>\n",
       "      <td>2065.50</td>\n",
       "      <td>2340.0</td>\n",
       "      <td>2809.5</td>\n",
       "      <td>4066.0</td>\n",
       "    </tr>\n",
       "    <tr>\n",
       "      <th>engine-size</th>\n",
       "      <td>159.0</td>\n",
       "      <td>119.226415</td>\n",
       "      <td>30.460791</td>\n",
       "      <td>61.0</td>\n",
       "      <td>97.00</td>\n",
       "      <td>110.0</td>\n",
       "      <td>135.0</td>\n",
       "      <td>258.0</td>\n",
       "    </tr>\n",
       "    <tr>\n",
       "      <th>compression-ratio</th>\n",
       "      <td>159.0</td>\n",
       "      <td>10.161132</td>\n",
       "      <td>3.889475</td>\n",
       "      <td>7.0</td>\n",
       "      <td>8.70</td>\n",
       "      <td>9.0</td>\n",
       "      <td>9.4</td>\n",
       "      <td>23.0</td>\n",
       "    </tr>\n",
       "    <tr>\n",
       "      <th>city-mpg</th>\n",
       "      <td>159.0</td>\n",
       "      <td>26.522013</td>\n",
       "      <td>6.097142</td>\n",
       "      <td>15.0</td>\n",
       "      <td>23.00</td>\n",
       "      <td>26.0</td>\n",
       "      <td>31.0</td>\n",
       "      <td>49.0</td>\n",
       "    </tr>\n",
       "    <tr>\n",
       "      <th>highway-mpg</th>\n",
       "      <td>159.0</td>\n",
       "      <td>32.081761</td>\n",
       "      <td>6.459189</td>\n",
       "      <td>18.0</td>\n",
       "      <td>28.00</td>\n",
       "      <td>32.0</td>\n",
       "      <td>37.0</td>\n",
       "      <td>54.0</td>\n",
       "    </tr>\n",
       "    <tr>\n",
       "      <th>price</th>\n",
       "      <td>159.0</td>\n",
       "      <td>11445.729560</td>\n",
       "      <td>5877.856195</td>\n",
       "      <td>5118.0</td>\n",
       "      <td>7372.00</td>\n",
       "      <td>9233.0</td>\n",
       "      <td>14719.5</td>\n",
       "      <td>35056.0</td>\n",
       "    </tr>\n",
       "  </tbody>\n",
       "</table>\n",
       "</div>"
      ],
      "text/plain": [
       "                   count          mean          std     min      25%     50%  \\\n",
       "symboling          159.0      0.735849     1.193086    -2.0     0.00     1.0   \n",
       "wheel-base         159.0     98.264151     5.167416    86.6    94.50    96.9   \n",
       "length             159.0    172.413836    11.523177   141.1   165.65   172.4   \n",
       "width              159.0     65.607547     1.947883    60.3    64.00    65.4   \n",
       "height             159.0     53.899371     2.268761    49.4    52.25    54.1   \n",
       "curb-weight        159.0   2461.138365   481.941321  1488.0  2065.50  2340.0   \n",
       "engine-size        159.0    119.226415    30.460791    61.0    97.00   110.0   \n",
       "compression-ratio  159.0     10.161132     3.889475     7.0     8.70     9.0   \n",
       "city-mpg           159.0     26.522013     6.097142    15.0    23.00    26.0   \n",
       "highway-mpg        159.0     32.081761     6.459189    18.0    28.00    32.0   \n",
       "price              159.0  11445.729560  5877.856195  5118.0  7372.00  9233.0   \n",
       "\n",
       "                       75%      max  \n",
       "symboling              2.0      3.0  \n",
       "wheel-base           100.8    115.6  \n",
       "length               177.8    202.6  \n",
       "width                 66.5     71.7  \n",
       "height                55.5     59.8  \n",
       "curb-weight         2809.5   4066.0  \n",
       "engine-size          135.0    258.0  \n",
       "compression-ratio      9.4     23.0  \n",
       "city-mpg              31.0     49.0  \n",
       "highway-mpg           37.0     54.0  \n",
       "price              14719.5  35056.0  "
      ]
     },
     "execution_count": 10,
     "metadata": {},
     "output_type": "execute_result"
    }
   ],
   "source": [
    "automobile_df.describe().T"
   ]
  },
  {
   "cell_type": "code",
   "execution_count": 41,
   "metadata": {},
   "outputs": [
    {
     "data": {
      "image/png": "[encoded data removed]",
      "text/plain": [
       "<Figure size 720x576 with 4 Axes>"
      ]
     },
     "metadata": {
      "needs_background": "light"
     },
     "output_type": "display_data"
    }
   ],
   "source": [
    "plt.figure(1)\n",
    "plt.subplot(221)\n",
    "automobile_df['engine-type'].value_counts(normalize=True).plot(figsize=(10,8),kind='bar',color='blue')\n",
    "plt.title(\"Number of Engine Type frequency diagram\")\n",
    "plt.ylabel('Number of Engine Type')\n",
    "plt.xlabel('engine-type');\n",
    "\n",
    "\n",
    "plt.subplot(222)\n",
    "automobile_df['num-of-doors'].value_counts(normalize=True).plot(figsize=(10,8),kind='bar',color='red')\n",
    "plt.title(\"Number of Door frequency diagram\")\n",
    "plt.ylabel('Number of Doors')\n",
    "plt.xlabel('num-of-doors');\n",
    "\n",
    "plt.subplot(223)\n",
    "automobile_df['fuel-type'].value_counts(normalize= True).plot(figsize=(10,8),kind='bar',color='orange')\n",
    "plt.title(\"Number of Fuel Type frequency diagram\")\n",
    "plt.ylabel('Number of vehicles')\n",
    "plt.xlabel('fuel-type');\n",
    "\n",
    "plt.subplot(224)\n",
    "automobile_df['body-style'].value_counts(normalize=True).plot(figsize=(10,8),kind='bar',color='maroon')\n",
    "plt.title(\"Number of Body Style frequency diagram\")\n",
    "plt.ylabel('Number of vehicles')\n",
    "plt.xlabel('body-style');\n",
    "plt.tight_layout()\n",
    "plt.show()"
   ]
  },
  {
   "cell_type": "markdown",
   "metadata": {},
   "source": [
    "# Findings\n",
    "\n",
    "    Graph 1: More than 70 % of the vehicle has Ohc type of Engine\n",
    "    Graph 2: 57% of the cars have 4 doors and 43% have 2 doors\n",
    "    Graph 3: Gas is preferred by 85 % of the vehicles\n",
    "    Graph 4: Most produced vehicle are of body style sedan around 48%     followed by hatchback 32%\n"
   ]
  },
  {
   "cell_type": "code",
   "execution_count": 42,
   "metadata": {},
   "outputs": [
    {
     "data": {
      "image/png": "[encoded data removed]",
      "text/plain": [
       "<Figure size 1440x720 with 1 Axes>"
      ]
     },
     "metadata": {
      "needs_background": "light"
     },
     "output_type": "display_data"
    }
   ],
   "source": [
    "plt.rcParams['figure.figsize']=(20,10)\n",
    "ax = sns.barplot(x=\"make\", y=\"price\", data=automobile_df)"
   ]
  },
  {
   "cell_type": "markdown",
   "metadata": {},
   "source": [
    "# Findings\n",
    "\n",
    "    Mercedez-Benz, Jaguar, Porshe produce the most expensive cars more than 20000 USD.\n",
    "    cheverolet,dodge, honda, Mitsubishi, nissan, plymouth subaru, toyota produces budget models with lower prices\n",
    "    most of the car companies produces cars below 20000\n",
    "    \n",
    "    \n",
    "\n"
   ]
  },
  {
   "cell_type": "code",
   "execution_count": 43,
   "metadata": {
    "scrolled": false
   },
   "outputs": [
    {
     "data": {
      "image/png": "[encoded data removed]",
      "text/plain": [
       "<Figure size 1080x504 with 1 Axes>"
      ]
     },
     "metadata": {
      "needs_background": "light"
     },
     "output_type": "display_data"
    }
   ],
   "source": [
    "plt.rcParams['figure.figsize']=(15,7)\n",
    "ax = sns.barplot(x=\"body-style\", y=\"price\", data=automobile_df)"
   ]
  },
  {
   "cell_type": "markdown",
   "metadata": {},
   "source": [
    "# Findings\n",
    "    Convertible car models are the most expensive in prices, followed by sedan and hardtop."
   ]
  },
  {
   "cell_type": "code",
   "execution_count": 39,
   "metadata": {
    "scrolled": true
   },
   "outputs": [
    {
     "data": {
      "image/png": "[encoded data removed]",
      "text/plain": [
       "<Figure size 720x360 with 1 Axes>"
      ]
     },
     "metadata": {
      "needs_background": "light"
     },
     "output_type": "display_data"
    }
   ],
   "source": [
    "plt.rcParams['figure.figsize']=(10,5)\n",
    "ax = sns.barplot(x=\"drive-wheels\", y=\"price\", data=automobile_df)"
   ]
  },
  {
   "cell_type": "markdown",
   "metadata": {},
   "source": [
    "rwd wheel drive vehicle have expensive prices"
   ]
  },
  {
   "cell_type": "code",
   "execution_count": 26,
   "metadata": {
    "scrolled": true
   },
   "outputs": [
    {
     "data": {
      "text/plain": [
       "<AxesSubplot:xlabel='fuel-type', ylabel='count'>"
      ]
     },
     "execution_count": 26,
     "metadata": {},
     "output_type": "execute_result"
    },
    {
     "data": {
      "image/png": "[encoded data removed]",
      "text/plain": [
       "<Figure size 720x360 with 1 Axes>"
      ]
     },
     "metadata": {
      "needs_background": "light"
     },
     "output_type": "display_data"
    }
   ],
   "source": [
    "\n",
    "sns.countplot(x='fuel-type', data=automobile_df,order = automobile_df['fuel-type'].value_counts().index)"
   ]
  },
  {
   "cell_type": "markdown",
   "metadata": {
    "id": "IuHFwUx3zOkg"
   },
   "source": [
    "Most produced cars use gasoline."
   ]
  },
  {
   "cell_type": "code",
   "execution_count": null,
   "metadata": {},
   "outputs": [],
   "source": []
  }
 ],
 "metadata": {
  "colab": {
   "provenance": []
  },
  "kernelspec": {
   "display_name": "Python 3 (ipykernel)",
   "language": "python",
   "name": "python3"
  },
  "language_info": {
   "codemirror_mode": {
    "name": "ipython",
    "version": 3
   },
   "file_extension": ".py",
   "mimetype": "text/x-python",
   "name": "python",
   "nbconvert_exporter": "python",
   "pygments_lexer": "ipython3",
   "version": "3.9.12"
  },
  "vscode": {
   "interpreter": {
    "hash": "1904059d3876957b542b45423f2a26c6c4608f5e11cc75420e543fa77f94b066"
   }
  }
 },
 "nbformat": 4,
 "nbformat_minor": 1
}
